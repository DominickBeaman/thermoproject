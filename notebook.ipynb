{
 "cells": [
  {
   "attachments": {},
   "cell_type": "markdown",
   "metadata": {},
   "source": [
    "<h1>HVAC Analysis of Ball Arena</h1>\n",
    "This notebook looks into the requirements for real time opearion of HVAC systems in Ball Arena (Denver, Co.), as well as some demonstration metrics."
   ]
  },
  {
   "attachments": {},
   "cell_type": "markdown",
   "metadata": {},
   "source": [
    "<h2>Setup</h2>\n",
    "Load dependencies for project:"
   ]
  },
  {
   "cell_type": "code",
   "execution_count": 1,
   "metadata": {},
   "outputs": [],
   "source": [
    "import matplotlib\n",
    "import psychrolib\n",
    "import pyromat as pm\n",
    "import ht \n",
    "from pyfluids import Fluid, FluidsList, Input\n",
    "import math"
   ]
  },
  {
   "attachments": {},
   "cell_type": "markdown",
   "metadata": {},
   "source": [
    "<h2>Define Useful Functions</h2>\n",
    "These funcitons include converting °F to °C, °C to K, and converting between m and ft."
   ]
  },
  {
   "cell_type": "code",
   "execution_count": 2,
   "metadata": {},
   "outputs": [],
   "source": [
    "def getCelciusFromFahrenheit(tf):\n",
    "    return (tf - 32) / 1.8\n",
    "\n",
    "def getSquMeterFromSquFt(squFt):\n",
    "    return squFt * 0.092903\n",
    "\n",
    "def celciusToKelvin(cel):\n",
    "    return cel + 273.15\n",
    "\n",
    "def getMeterFromFeet(feet):\n",
    "    return feet * 0.3048"
   ]
  },
  {
   "attachments": {},
   "cell_type": "markdown",
   "metadata": {},
   "source": [
    "<h2> Define Psychrometric Functions </h2>\n",
    "These functions will be used throughout the code to get psychromtric data pertienent to modeling HVAC systems."
   ]
  },
  {
   "cell_type": "code",
   "execution_count": 3,
   "metadata": {},
   "outputs": [],
   "source": [
    "#For retriving water and air variables \n",
    "h2o = pm.get(\"ig.H2O\")\n",
    "air = pm.get(\"ig.air\")\n",
    "\n",
    "# For calculating P_sat given temperature| temperature in K, out in kPa\n",
    "def getPsat(temperature):\n",
    "    return h2o.p(T=temperature)\n",
    "\n",
    "# For determining current water pressure given temperature in K, relativeHumidity in %, out in kPa\n",
    "def getWaterPressure(temperature, relativeHumidity):\n",
    "    return relativeHumidity / 100 * getPsat(temperature)\n",
    "\n",
    "#Define R value for air [IG model]\n",
    "Ra = 8.314\n",
    "\n",
    "# for getting mass flow rate of water| temperature in K, relativeHumidity in %, volumeFlow in m^3/s, out in kg/s \n",
    "def getWaterMass(temperature, relativeHumidity, volumeFlow):\n",
    "    return getWaterPressure(temperature, relativeHumidity) * volumeFlow * h2o.mw() / Ra / temperature\n",
    "\n",
    "# for getting mass flow rate| temperature in K, dryAirPressure in kPa, volumeFlow in m^3/s, out in kg/s \n",
    "def getDryAirMass(temperature, dryAirPressure, volumeFlow):\n",
    "    return dryAirPressure * volumeFlow * h2o.mw() / Ra / temperature\n",
    "\n",
    "# Used for getting the dry air pressure| pressure in kPa, waterPressure in kPa, out in kPa\n",
    "def getDryAirPressure(pressure, waterPressure):\n",
    "    return pressure - waterPressure\n",
    "\n",
    "# Used for getting the specific humidity| pressure in kPa, waterPressure in kPa, out in 0 to 1\n",
    "def getSpecificHumidity(pressure, waterPressure):\n",
    "    return 0.622 * waterPressure / (pressure - waterPressure)\n",
    "\n",
    "\n",
    "# For getting water enthalpy| temperature in K, pressure in kPa, out in kJ/kmol\n",
    "def getWaterEnthalpy(temperature, pressure):\n",
    "    return h2o.h(T=temperature, p=pressure)\n",
    "\n",
    "# For getting dry air enthalpy| temperature in K, pressure in kPa, out in kJ/kmol\n",
    "def getDryAirEnthalpy(temperature, pressure):\n",
    "    return air.h(T=temperature, p=pressure)\n",
    "    \n",
    "# For getting water enthalpy flow| temperature in K, pressure in kPa, massFlow in kg/s, out in kJ/s\n",
    "def getWaterEnthalpyFlow(temperature, pressure, massFlow):\n",
    "    return getWaterEnthalpy(temperature, pressure) / h2o.mw() * massFlow\n",
    "\n",
    "# For getting dry air enthalpy flow| temperature in K, pressure in kPa, massFlow in kg/s, out in kJ/s\n",
    "def getDryAirEnthalpyFlow(temperature, pressure, massFlow):\n",
    "    return getDryAirEnthalpy(temperature, pressure) / air.mw() * massFlow\n",
    "    \n",
    "# For determining required refrigerant| qout in kW, out in tons of refrigerant\n",
    "def getRequiredRefrigerant(qout):\n",
    "    return .2893 * qout\n",
    "\n",
    "def getDryAirMassFlowRate(pressure, vaporpressure, volumeflowrate, temperature):\n",
    "    return volumeflowrate / (air.v(T=temperature) + getSpecificHumidity(pressure, vaporpressure) * h2o.v(T=temperature))\n",
    "\n",
    "def getVaporMassFlowRate(pressure, vaporpressure, volumeflowrate, temperature):\n",
    "    return volumeflowrate / (air.v(T=temperature) / getSpecificHumidity(pressure, vaporpressure) + h2o.v(T=temperature))"
   ]
  },
  {
   "attachments": {},
   "cell_type": "markdown",
   "metadata": {},
   "source": [
    "<h2> Game Conditions </h2>\n",
    "Standard game conditions as per NHL requirements and average game length"
   ]
  },
  {
   "cell_type": "code",
   "execution_count": 4,
   "metadata": {},
   "outputs": [],
   "source": [
    "# Values related to the game\n",
    "gameLength = 2.5 # hours\n",
    "\n",
    "# Desired conditions to be mainted throughout the game\n",
    "desiredHumidity = 35 # %\n",
    "desiredTemperature = getCelciusFromFahrenheit(63) # C\n",
    "airPressure = 84.0 # Kpa"
   ]
  },
  {
   "attachments": {},
   "cell_type": "markdown",
   "metadata": {},
   "source": [
    "<h2> Define Arena Variables </h2>\n",
    "Data related to the arena, attendees, and game requirements"
   ]
  },
  {
   "cell_type": "code",
   "execution_count": 5,
   "metadata": {},
   "outputs": [
    {
     "name": "stdout",
     "output_type": "stream",
     "text": [
      "Stadium Floor Area: 62709.525m^2 , Stadium Length: 209.77770189065927m , Stadium Width: 298.9332251941895m\n"
     ]
    }
   ],
   "source": [
    "# Stadium size information\n",
    "stadiumFloorArea = getSquMeterFromSquFt(675000) # m^2\n",
    "stadiumSizeRatio = 85/200\n",
    "stadiumLength = math.sqrt(stadiumFloorArea / (1 + stadiumSizeRatio)) # m\n",
    "stadiumWidth = stadiumFloorArea / stadiumLength # m\n",
    "arenaWidth = getMeterFromFeet(85 * 10 / 1.5)\n",
    "arenaLength = getMeterFromFeet(200 * 12.5 / 2.5)\n",
    "stadiumHeight = 15 # m (Guess for now cant find any actual data)\n",
    "\n",
    "print(\"Stadium Floor Area: \" + str(stadiumFloorArea) + \"m^2 , Stadium Length: \" + str(stadiumLength) + \"m , Stadium Width: \" + str(stadiumWidth) + \"m\")\n",
    "\n",
    "# Values related to the people\n",
    "amountPeople = 18000 # Persons\n",
    "surfaceAreaPerson = 1.8 # m^2\n",
    "heatGenerationPerson = 58.2 # W/m^2\n",
    "waterBreathGenerationPerson = 16.7 / 3600# g/s\n",
    "waterSweatGenerationPerson = 3.5 * 1000 / 3600 # g/s\n",
    "playerHeatGeneration = 1000 # W/m^2\n",
    "numberPlayers = 6 * 12"
   ]
  },
  {
   "attachments": {},
   "cell_type": "markdown",
   "metadata": {},
   "source": [
    "<h2> HVAC Variables </h2>\n",
    "Flow rate of HVAC system "
   ]
  },
  {
   "cell_type": "code",
   "execution_count": 6,
   "metadata": {},
   "outputs": [
    {
     "name": "stdout",
     "output_type": "stream",
     "text": [
      "Air Flow: 361.99999999999994m^3/s\n"
     ]
    }
   ],
   "source": [
    "# HVAC information\n",
    "hvacVolumeFlowRate = 724000 / 60 * 0.03# m^3 / s\n",
    "print(\"Air Flow: \" + str(hvacVolumeFlowRate) + \"m^3/s\")"
   ]
  },
  {
   "attachments": {},
   "cell_type": "markdown",
   "metadata": {},
   "source": [
    "<h2>Ice Rink Variables</h2>\n",
    "These values will say consistent throughout the modeling process"
   ]
  },
  {
   "cell_type": "code",
   "execution_count": 7,
   "metadata": {},
   "outputs": [
    {
     "name": "stdout",
     "output_type": "stream",
     "text": [
      "Air Speed: 1.397251814111471m/s\n",
      "Ice Convection Coefficient: 2.780199330148111\n",
      "Rink Heat Loss: 111.7816781495868 kW\n"
     ]
    }
   ],
   "source": [
    "# Ice rink related values\n",
    "rinkArea = getSquMeterFromSquFt(19000) # m^2\n",
    "rinkLength = getMeterFromFeet(200) # m\n",
    "rinkIceTemperature = getCelciusFromFahrenheit(22) # C\n",
    "rinkAirSpeedAdjustment = 10\n",
    "rinkAirSpeed = hvacVolumeFlowRate / (arenaWidth * stadiumHeight) * rinkAirSpeedAdjustment\n",
    "print(\"Air Speed: \" + str(rinkAirSpeed) + \"m/s\")\n",
    "\n",
    "# Related to determining the heat loss through the ice\n",
    "filmTemperature = (desiredTemperature + rinkIceTemperature) / 2 \n",
    "\n",
    "# To get air fluid properties at film temp\n",
    "airFluid = Fluid(FluidsList.Air).with_state(Input.temperature(filmTemperature), Input.pressure(airPressure * 1000))\n",
    "airDensity = airFluid.density # kg/m^3\n",
    "airThermalConduction = airFluid.conductivity\n",
    "airKinematicViscosity = airFluid.kinematic_viscosity # Std\n",
    "airReynoldsNumber = rinkAirSpeed * rinkLength / airKinematicViscosity\n",
    "airPrandtlNumber = airFluid.prandtl\n",
    "rinkNu = ht.conv_external.Nu_external_horizontal_plate(airReynoldsNumber, airPrandtlNumber)\n",
    "rinkConvectionCoe = rinkNu * airThermalConduction / rinkLength\n",
    "print(\"Ice Convection Coefficient: \" + str(rinkConvectionCoe))\n",
    "\n",
    "# Goal of section\n",
    "rinkConvection = rinkArea * rinkConvectionCoe * (desiredTemperature - rinkIceTemperature) / 1000 # kW\n",
    "print(\"Rink Heat Loss: \" + str(rinkConvection) + \" kW\")"
   ]
  },
  {
   "attachments": {},
   "cell_type": "markdown",
   "metadata": {},
   "source": [
    "<h2> Testing Variables </h2>\n",
    "The primary testing variables for this expriment include the air temperature and humidity, with the aim to study when the refrigeration costs are most expensive"
   ]
  },
  {
   "cell_type": "code",
   "execution_count": 8,
   "metadata": {},
   "outputs": [],
   "source": [
    "# Standard atmospheric conditions\n",
    "airTemperature = 40 # C\n",
    "airHumidity = 22 # %"
   ]
  },
  {
   "attachments": {},
   "cell_type": "markdown",
   "metadata": {},
   "source": [
    "<h2> HVAC Analysis </h2>\n",
    "Given the preceeding sections exploring defining functions and variables. We can preform an effective HVAC analysis on the operating costs."
   ]
  },
  {
   "cell_type": "code",
   "execution_count": 9,
   "metadata": {},
   "outputs": [
    {
     "name": "stdout",
     "output_type": "stream",
     "text": [
      "People Water Production: 0.1535 kg/s\n",
      "State One, Vapor Pressure: [0.00222915] kPa\n",
      "Dry Air Flow Rate: [408.03711397] kg/s, Vapor Flow Rate: [0.00673537] kg/s\n",
      "State Two, Vapor Pressure: [0.00354637] kPa\n",
      "State Two Vapor Flow Rate: [0.00673537] kg/s\n",
      "Water Adjustment Needed: [-0.14867946] kg/s\n",
      "Energy Required For A Game: [-5497882.53673238] kJ, [-610.87583741] kW, with total cost of [152.71895935]$\n"
     ]
    }
   ],
   "source": [
    "# Related to hvac analysis\n",
    "mDotPeople = (waterBreathGenerationPerson * amountPeople + numberPlayers * waterSweatGenerationPerson) / 1000\n",
    "qDotPeople = surfaceAreaPerson * heatGenerationPerson + playerHeatGeneration * numberPlayers / 1000\n",
    "qDotIce = -rinkConvection\n",
    "print(\"People Water Production: \" + str(mDotPeople) + \" kg/s\")\n",
    "\n",
    "stateOneVaporPressure = getWaterPressure(celciusToKelvin(airTemperature), airHumidity / 100)\n",
    "stateOneAirPressure = getDryAirPressure(airPressure, stateOneVaporPressure)\n",
    "print(\"State One, Vapor Pressure: \" + str(stateOneVaporPressure) + \" kPa\")\n",
    "\n",
    "dryAirMassFlowRate = getDryAirMassFlowRate(airPressure, stateOneVaporPressure, hvacVolumeFlowRate, celciusToKelvin(airTemperature))\n",
    "stateOneVaporFlowRate = getVaporMassFlowRate(airPressure, stateOneVaporPressure, hvacVolumeFlowRate, celciusToKelvin(airTemperature))\n",
    "print(\"Dry Air Flow Rate: \" + str(dryAirMassFlowRate) + \" kg/s, Vapor Flow Rate: \" + str(stateOneVaporFlowRate) + \" kg/s\")\n",
    "\n",
    "stateTwoVaporPressure = getWaterPressure(celciusToKelvin(desiredTemperature), desiredHumidity / 100)\n",
    "stateTwoAirPressure = getDryAirPressure(airPressure, stateTwoVaporPressure)\n",
    "print(\"State Two, Vapor Pressure: \" + str(stateTwoVaporPressure) + \" kPa\")\n",
    "\n",
    "stateTwoVaporFlowRate = getVaporMassFlowRate(airPressure, stateTwoVaporPressure, hvacVolumeFlowRate, celciusToKelvin(desiredTemperature))\n",
    "print(\"State Two Vapor Flow Rate: \" + str(stateOneVaporFlowRate) + \" kg/s\")\n",
    "\n",
    "mDotAdditive = stateTwoVaporFlowRate - stateOneVaporFlowRate - mDotPeople\n",
    "print(\"Water Adjustment Needed: \" + str(mDotAdditive) + \" kg/s\")\n",
    "\n",
    "inletEnthalpyDot = getWaterEnthalpyFlow(celciusToKelvin(airTemperature), airPressure, stateOneVaporFlowRate) + getWaterEnthalpyFlow(celciusToKelvin(desiredTemperature), airPressure, mDotPeople) + getWaterEnthalpyFlow(300, airPressure, mDotAdditive) + getDryAirEnthalpyFlow(celciusToKelvin(airTemperature), airPressure, dryAirMassFlowRate)\n",
    "outletEnthalpyDot = getWaterEnthalpyFlow(celciusToKelvin(desiredTemperature), airPressure, stateTwoVaporFlowRate) + getDryAirEnthalpyFlow(celciusToKelvin(desiredTemperature), airPressure, dryAirMassFlowRate)\n",
    "\n",
    "qNetDot = outletEnthalpyDot - inletEnthalpyDot - qDotPeople + qDotIce\n",
    "qNet = qNetDot * gameLength * 3600\n",
    "\n",
    "energyCost = 0.1 # $ / kW-h\n",
    "totalCost = abs(qNetDot) * gameLength * energyCost \n",
    "\n",
    "print(\"Energy Required For A Game: \" + str(qNet) + \" kJ, \" + str(qNetDot) + \" kW, with total cost of \" + str(totalCost) + \"$\")"
   ]
  }
 ],
 "metadata": {
  "kernelspec": {
   "display_name": "Python 3",
   "language": "python",
   "name": "python3"
  },
  "language_info": {
   "codemirror_mode": {
    "name": "ipython",
    "version": 3
   },
   "file_extension": ".py",
   "mimetype": "text/x-python",
   "name": "python",
   "nbconvert_exporter": "python",
   "pygments_lexer": "ipython3",
   "version": "3.9.13"
  },
  "orig_nbformat": 4
 },
 "nbformat": 4,
 "nbformat_minor": 2
}
