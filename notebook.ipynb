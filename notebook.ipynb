{
 "cells": [
  {
   "attachments": {},
   "cell_type": "markdown",
   "metadata": {},
   "source": [
    "<h1>HVAC Analysis of Ball Arena</h1>\n",
    "This notebook looks into the requirements for real time opearion of HVAC systems in Ball Arena (Denver, Co.), as well as some demonstration metrics."
   ]
  },
  {
   "attachments": {},
   "cell_type": "markdown",
   "metadata": {},
   "source": [
    "<h2>Setup</h2>\n",
    "Load dependencies for project:"
   ]
  },
  {
   "cell_type": "code",
   "execution_count": 7,
   "metadata": {},
   "outputs": [],
   "source": [
    "import matplotlib\n",
    "import psychrolib\n",
    "import pyromat as pm\n",
    "import ht \n",
    "from pyfluids import Fluid, FluidsList, Input\n",
    "import math"
   ]
  },
  {
   "attachments": {},
   "cell_type": "markdown",
   "metadata": {},
   "source": [
    "<h2>Define Useful Functions</h2>\n",
    "These funcitons include converting °F to °C, °C to K, and converting between m and ft."
   ]
  },
  {
   "cell_type": "code",
   "execution_count": 8,
   "metadata": {},
   "outputs": [],
   "source": [
    "def getCelciusFromFahrenheit(tf):\n",
    "    return (tf - 32) / 1.8\n",
    "\n",
    "def getSquMeterFromSquFt(squFt):\n",
    "    return squFt * 0.092903\n",
    "\n",
    "def celciusToKelvin(cel):\n",
    "    return cel + 273.15\n",
    "\n",
    "def getMeterFromFeet(feet):\n",
    "    return feet * 0.3048"
   ]
  },
  {
   "attachments": {},
   "cell_type": "markdown",
   "metadata": {},
   "source": [
    "<h2> Define Psychrometric Functions </h2>\n",
    "These functions will be used throughout the code to get psychromtric data pertienent to modeling HVAC systems."
   ]
  },
  {
   "cell_type": "code",
   "execution_count": 9,
   "metadata": {},
   "outputs": [],
   "source": [
    "#For retriving water and air variables \n",
    "h2o = pm.get(\"ig.H2O\")\n",
    "air = pm.get(\"ig.air\")\n",
    "\n",
    "# For calculating P_sat given temperature| temperature in K, out in kPa\n",
    "def getPsat(temperature):\n",
    "    return h2o.p(T=temperature)\n",
    "\n",
    "# For determining current water pressure given temperature in K, relativeHumidity in %, out in kPa\n",
    "def getWaterPressure(temperature, relativeHumidity):\n",
    "    return relativeHumidity / 100 * getPsat(temperature)\n",
    "\n",
    "#Define R value for air [IG model]\n",
    "Ra = 8.314\n",
    "\n",
    "# for getting mass flow rate of water| temperature in K, relativeHumidity in %, volumeFlow in m^3/s, out in kg/s \n",
    "def getWaterMass(temperature, relativeHumidity, volumeFlow):\n",
    "    return getWaterPressure(temperature, relativeHumidity) * volumeFlow * h2o.mw() / Ra / temperature\n",
    "\n",
    "# for getting mass flow rate| temperature in K, dryAirPressure in kPa, volumeFlow in m^3/s, out in kg/s \n",
    "def getDryAirMass(temperature, dryAirPressure, volumeFlow):\n",
    "    return dryAirPressure * volumeFlow * h2o.mw() / Ra / temperature\n",
    "\n",
    "# Used for getting the dry air pressure| pressure in kPa, waterPressure in kPa, out in kPa\n",
    "def getDryAirPressure(pressure, waterPressure):\n",
    "    return pressure - waterPressure\n",
    "\n",
    "# Used for getting the specific humidity| pressure in kPa, waterPressure in kPa, out in 0 to 1\n",
    "def getSpecificHumidity(pressure, waterPressure):\n",
    "    return 0.622 * waterPressure / (pressure - waterPressure)\n",
    "\n",
    "\n",
    "# For getting water enthalpy| temperature in K, pressure in kPa, out in kJ/kmol\n",
    "def getWaterEnthalpy(temperature, pressure):\n",
    "    return h2o.h(T=temperature, p=pressure)\n",
    "\n",
    "# For getting dry air enthalpy| temperature in K, pressure in kPa, out in kJ/kmol\n",
    "def getDryAirEnthalpy(temperature, pressure):\n",
    "    return air.h(T=temperature, p=pressure)\n",
    "    \n",
    "# For getting water enthalpy flow| temperature in K, pressure in kPa, massFlow in kg/s, out in kJ/s\n",
    "def getWaterEnthalpyFlow(temperature, pressure, massFlow):\n",
    "    return getWaterEnthalpy(temperature, pressure) / h2o.mw() * massFlow\n",
    "\n",
    "# For getting dry air enthalpy flow| temperature in K, pressure in kPa, massFlow in kg/s, out in kJ/s\n",
    "def getDryAirEnthalpyFlow(temperature, pressure, massFlow):\n",
    "    return getDryAirEnthalpy(temperature, pressure) / air.mw() * massFlow\n",
    "    \n",
    "# For determining required refrigerant| qout in kW, out in tons of refrigerant\n",
    "def getRequiredRefrigerant(qout):\n",
    "    return .2893 * qout\n",
    "\n",
    "def getDryAirMassFlowRate(pressure, vaporpressure, volumeflowrate, temperature):\n",
    "    return volumeflowrate / (air.v(T=temperature) + getSpecificHumidity(pressure, vaporpressure) * h2o.v(T=temperature))\n",
    "\n",
    "def getVaporMassFlowRate(pressure, vaporpressure, volumeflowrate, temperature):\n",
    "    return volumeflowrate / (air.v(T=temperature) / getSpecificHumidity(pressure, vaporpressure) + h2o.v(T=temperature))"
   ]
  },
  {
   "attachments": {},
   "cell_type": "markdown",
   "metadata": {},
   "source": [
    "<h2> Define Arena Variables </h2>\n",
    "Data related to the arena and game requirements"
   ]
  },
  {
   "cell_type": "code",
   "execution_count": 10,
   "metadata": {},
   "outputs": [
    {
     "name": "stdout",
     "output_type": "stream",
     "text": [
      "Stadium Floor Area: 62709.525m^2 , Stadium Length: 209.77770189065927m , Stadium Width: 298.9332251941895m\n"
     ]
    }
   ],
   "source": [
    "# Stadium size information\n",
    "stadiumFloorArea = getSquMeterFromSquFt(675000) # m^2\n",
    "stadiumSizeRatio = 85/200\n",
    "stadiumLength = math.sqrt(stadiumFloorArea / (1 + stadiumSizeRatio)) # m\n",
    "stadiumWidth = stadiumFloorArea / stadiumLength # m\n",
    "arenaWidth = getMeterFromFeet(85 * 10 / 1.5)\n",
    "arenaLength = getMeterFromFeet(200 * 12.5 / 2.5)\n",
    "stadiumHeight = 15 # m (Guess for now cant find any actual data)\n",
    "\n",
    "print(\"Stadium Floor Area: \" + str(stadiumFloorArea) + \"m^2 , Stadium Length: \" + str(stadiumLength) + \"m , Stadium Width: \" + str(stadiumWidth) + \"m\")"
   ]
  },
  {
   "attachments": {},
   "cell_type": "markdown",
   "metadata": {},
   "source": [
    "<h2> Desired Game Conditions <h2>"
   ]
  },
  {
   "cell_type": "code",
   "execution_count": null,
   "metadata": {},
   "outputs": [],
   "source": [
    "# Values related to the game\n",
    "gameLength = 2.5 # hours\n",
    "\n",
    "# Desired conditions to be mainted throughout the game\n",
    "desiredHumidity = 35 # %\n",
    "desiredTemperature = getCelciusFromFahrenheit(63) # C\n",
    "airPressure = 84.0 # Kpa"
   ]
  },
  {
   "attachments": {},
   "cell_type": "markdown",
   "metadata": {},
   "source": [
    "$\\hat{Y} = \\hat{\\beta}_{0} + \\sum \\limits _{j=1} ^{p} X_{j}\\hat{\\beta}_{j} $"
   ]
  }
 ],
 "metadata": {
  "kernelspec": {
   "display_name": "Python 3",
   "language": "python",
   "name": "python3"
  },
  "language_info": {
   "codemirror_mode": {
    "name": "ipython",
    "version": 3
   },
   "file_extension": ".py",
   "mimetype": "text/x-python",
   "name": "python",
   "nbconvert_exporter": "python",
   "pygments_lexer": "ipython3",
   "version": "3.9.13"
  },
  "orig_nbformat": 4
 },
 "nbformat": 4,
 "nbformat_minor": 2
}
